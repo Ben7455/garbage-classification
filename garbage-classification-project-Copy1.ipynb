{
 "cells": [
  {
   "cell_type": "code",
   "execution_count": 10,
   "id": "bc6658a1",
   "metadata": {},
   "outputs": [
    {
     "name": "stdout",
     "output_type": "stream",
     "text": [
      "Device: cuda\n"
     ]
    }
   ],
   "source": [
    "import torch\n",
    "from torch.utils.data import TensorDataset, random_split, DataLoader, RandomSampler, SequentialSampler\n",
    "from transformers import BertTokenizer, BertForSequenceClassification\n",
    "# from transformers import BertForSequenceClassification.from_pretrained as BertModel\n",
    "# from transformers.BertTokenizer import from_pretrained as BertTokenizer\n",
    "\n",
    "\n",
    "device = torch.device(\"cuda\" if torch.cuda.is_available else \"cpu\")\n",
    "print(f'Device: {device}')"
   ]
  },
  {
   "cell_type": "code",
   "execution_count": 11,
   "id": "79d11e4a",
   "metadata": {},
   "outputs": [
    {
     "name": "stderr",
     "output_type": "stream",
     "text": [
      "Some weights of the model checkpoint at bert-base-uncased were not used when initializing BertForSequenceClassification: ['cls.predictions.bias', 'cls.seq_relationship.bias', 'cls.seq_relationship.weight', 'cls.predictions.transform.LayerNorm.weight', 'cls.predictions.transform.dense.weight', 'cls.predictions.transform.dense.bias', 'cls.predictions.transform.LayerNorm.bias', 'cls.predictions.decoder.weight']\n",
      "- This IS expected if you are initializing BertForSequenceClassification from the checkpoint of a model trained on another task or with another architecture (e.g. initializing a BertForSequenceClassification model from a BertForPreTraining model).\n",
      "- This IS NOT expected if you are initializing BertForSequenceClassification from the checkpoint of a model that you expect to be exactly identical (initializing a BertForSequenceClassification model from a BertForSequenceClassification model).\n",
      "Some weights of BertForSequenceClassification were not initialized from the model checkpoint at bert-base-uncased and are newly initialized: ['classifier.bias', 'classifier.weight']\n",
      "You should probably TRAIN this model on a down-stream task to be able to use it for predictions and inference.\n"
     ]
    }
   ],
   "source": [
    "model = BertForSequenceClassification.from_pretrained(\"bert-base-uncased\", num_labels=3, return_dict=False)\n",
    "tokenizer = BertTokenizer.from_pretrained(\"bert-base-uncased\")\n"
   ]
  },
  {
   "cell_type": "code",
   "execution_count": 12,
   "id": "bb03583d",
   "metadata": {},
   "outputs": [],
   "source": [
    "sentences = ['This is a positive sentence.', 'This is a negative sentence.', 'I am neutral.']\n",
    "labels = [1,0,2]"
   ]
  },
  {
   "cell_type": "code",
   "execution_count": 13,
   "id": "f0efd508",
   "metadata": {},
   "outputs": [
    {
     "data": {
      "text/plain": [
       "<torch._C.Generator at 0x200967b7e90>"
      ]
     },
     "execution_count": 13,
     "metadata": {},
     "output_type": "execute_result"
    }
   ],
   "source": [
    "input_ids = list()\n",
    "attention_masks = list()\n",
    "for sent in sentences:\n",
    "    encoded_dict = tokenizer.encode_plus(sent, add_special_tokens=True, max_length=64, truncation=True, pad_to_max_length=True, \n",
    "                                         return_attention_mask=True, return_tensors='pt')\n",
    "    \n",
    "    input_ids.append(encoded_dict['input_ids'])\n",
    "    attention_masks.append(encoded_dict['attention_mask'])\n",
    "    \n",
    "    \n",
    "input_ids = torch.cat(input_ids, dim=0)\n",
    "attention_masks = torch.cat(attention_masks, dim=0)\n",
    "labels = torch.tensor(labels)\n",
    "\n",
    "dataset = TensorDataset(input_ids, attention_masks, labels)\n",
    "\n",
    "train_size = int(0.8*len(dataset))\n",
    "val_size = len(dataset) - train_size\n",
    "\n",
    "train_dataset, val_dataset = random_split(dataset, [train_size, val_size])\n",
    "\n",
    "batch_size = 32\n",
    "train_dataloader = DataLoader(train_dataset, sampler=RandomSampler(train_dataset), batch_size=batch_size)\n",
    "validation_dataloader = DataLoader(val_dataset, sampler=SequentialSampler(val_dataset), batch_size=batch_size)\n",
    "\n",
    "model.to(device)\n",
    "\n",
    "optimizer = torch.optim.Adam(model.parameters(), lr = 2e-5)\n",
    "\n",
    "epochs = 4\n",
    "\n",
    "seed_val = 42\n",
    "torch.manual_seed(seed_val)"
   ]
  },
  {
   "cell_type": "code",
   "execution_count": 14,
   "id": "5b0fc8da",
   "metadata": {},
   "outputs": [],
   "source": [
    "def flat_accuracy(preds, labels):\n",
    "    pred_flat = torch.argmax(preds, axis=1).flatten()\n",
    "    labels_flat = labels.flatten()\n",
    "    \n",
    "    return torch.sum(pred_flat == labels_flat).item() / len(labels_flat)"
   ]
  },
  {
   "cell_type": "code",
   "execution_count": 15,
   "id": "88752492",
   "metadata": {},
   "outputs": [
    {
     "name": "stdout",
     "output_type": "stream",
     "text": [
      "| Epoch: 1 | Training Loss: 1.3017181158065796 | Training Accuracy: 2.0 |\n",
      "| Epoch: 2 | Training Loss: 1.3017181158065796 | Training Accuracy: 2.0 |\n",
      "| Epoch: 3 | Training Loss: 1.3017181158065796 | Training Accuracy: 2.0 |\n",
      "| Epoch: 4 | Training Loss: 1.3017181158065796 | Training Accuracy: 2.0 |\n"
     ]
    }
   ],
   "source": [
    "for epoch in range(epochs):\n",
    "    total_train_loss = 0\n",
    "    total_train_accuracy = 0\n",
    "    \n",
    "    model.train()\n",
    "    \n",
    "    for step, batch in enumerate(train_dataloader):\n",
    "        batch_input_ids = batch[0].to(device)\n",
    "        batch_attention_masks = batch[1].to(device)\n",
    "        batch_labels = batch[2].to(device)\n",
    "        \n",
    "        optimizer.zero_grad()\n",
    "        \n",
    "        loss, logits = model(batch_input_ids, attention_mask = batch_attention_masks,\n",
    "                             labels = batch_labels)\n",
    "        total_train_loss += loss.item()\n",
    "        \n",
    "        loss.backward()\n",
    "        torch.nn.utils.clip_grad_norm_(model.parameters(), 1.0)\n",
    "        optimizer.step()\n",
    "        total_train_accuracy += flat_accuracy(logits, batch_labels)\n",
    "        \n",
    "        optimizer.zero_grad()\n",
    "\n",
    "        loss, logits = model(batch_input_ids, attention_mask=batch_attention_masks, labels=batch_labels)\n",
    "\n",
    "        total_train_loss += loss.item()\n",
    "\n",
    "        loss.backward()\n",
    "\n",
    "        torch.nn.utils.clip_grad_norm_(model.parameters(), 1.0)\n",
    "\n",
    "        optimizer.step()\n",
    "\n",
    "        total_train_accuracy += flat_accuracy(logits, batch_labels)\n",
    "        \n",
    "    print(f'| Epoch: {epoch+1} | Training Loss: {avg_train_loss} | Training Accuracy: {avg_train_accuracy} |')\n",
    "        "
   ]
  },
  {
   "cell_type": "code",
   "execution_count": 16,
   "id": "90556eb0",
   "metadata": {},
   "outputs": [],
   "source": [
    "avg_train_loss = total_train_loss / len(train_dataloader)\n",
    "avg_train_accuracy = total_train_accuracy / len(train_dataloader)"
   ]
  },
  {
   "cell_type": "code",
   "execution_count": 17,
   "id": "63e8c0d1",
   "metadata": {},
   "outputs": [
    {
     "name": "stdout",
     "output_type": "stream",
     "text": [
      "| Epoch: 4 | Training Loss: 1.5985829830169678 | Training Accuracy: 1.5 |\n"
     ]
    }
   ],
   "source": [
    "print(f'| Epoch: {epoch+1} | Training Loss: {avg_train_loss} | Training Accuracy: {avg_train_accuracy} |')"
   ]
  },
  {
   "cell_type": "code",
   "execution_count": 18,
   "id": "2f59eb19",
   "metadata": {},
   "outputs": [
    {
     "name": "stdout",
     "output_type": "stream",
     "text": [
      "| Validation loss: 2.449448347091675 | Validation Accuracy: 0.0 |\n"
     ]
    }
   ],
   "source": [
    "# Evaluate the model on the validation set\n",
    "model.eval()\n",
    "\n",
    "total_val_loss = 0\n",
    "total_val_accuracy = 0\n",
    "\n",
    "for batch in validation_dataloader:\n",
    "    batch_input_ids = batch[0].to(device)\n",
    "    batch_attention_masks = batch[1].to(device)\n",
    "    batch_labels = batch[2].to(device)\n",
    "\n",
    "    with torch.no_grad():\n",
    "        loss, logits = model(batch_input_ids, attention_mask=batch_attention_masks, labels=batch_labels)\n",
    "\n",
    "    total_val_loss += loss.item()\n",
    "    total_val_accuracy += flat_accuracy(logits, batch_labels)\n",
    "\n",
    "avg_val_loss = total_val_loss / len(validation_dataloader)\n",
    "avg_val_accuracy = total_val_accuracy / len(validation_dataloader)\n",
    "\n",
    "\n",
    "print(f'| Validation loss: {avg_val_loss} | Validation Accuracy: {avg_val_accuracy} |')"
   ]
  },
  {
   "cell_type": "code",
   "execution_count": null,
   "id": "35524ece",
   "metadata": {},
   "outputs": [],
   "source": []
  }
 ],
 "metadata": {
  "kernelspec": {
   "display_name": "tf_torch_venv",
   "language": "python",
   "name": "tf_torch_venv"
  },
  "language_info": {
   "codemirror_mode": {
    "name": "ipython",
    "version": 3
   },
   "file_extension": ".py",
   "mimetype": "text/x-python",
   "name": "python",
   "nbconvert_exporter": "python",
   "pygments_lexer": "ipython3",
   "version": "3.9.12"
  }
 },
 "nbformat": 4,
 "nbformat_minor": 5
}
